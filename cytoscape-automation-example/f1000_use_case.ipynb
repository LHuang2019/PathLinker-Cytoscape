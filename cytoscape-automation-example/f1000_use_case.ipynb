{
 "cells": [
  {
   "cell_type": "markdown",
   "metadata": {
    "collapsed": true
   },
   "source": [
    "<h1><center> PathLinker Cytoscape F1000 Use Case </center></h1>\n",
    "<img src=\"http://apps.cytoscape.org/media/pathlinker/logo.png.png\" alt=\"PathLinker Logo\">\n",
    "\n",
    "## Requirments\n",
    "* Java 8\n",
    "* Cytoscape 3.6.0+\n",
    "* cyREST 3.6.0+\n",
    "* py2cytoscape 0.4.2+"
   ]
  },
  {
   "cell_type": "code",
   "execution_count": 1,
   "metadata": {
    "collapsed": true
   },
   "outputs": [],
   "source": [
    "# necessary libraries and dependencies\n",
    "from py2cytoscape.data.cyrest_client import CyRestClient\n",
    "from py2cytoscape.data.style import StyleUtil\n",
    "\n",
    "import networkx as nx\n",
    "import pandas as pd\n",
    "import json\n",
    "import requests"
   ]
  },
  {
   "cell_type": "code",
   "execution_count": 2,
   "metadata": {},
   "outputs": [],
   "source": [
    "# !!!!!!!!!!!!!!!!! Step 0: Start Cytoscape 3.6 with cyREST App !!!!!!!!!!!!!!!!!!!!!!!!!!\n",
    "# Cytoscape must be running to use the automation features\n",
    "\n",
    "# Step 1: create an instance of cyRest client\n",
    "cy = CyRestClient()\n",
    "\n",
    "# Reset the session\n",
    "cy.session.delete()"
   ]
  },
  {
   "cell_type": "markdown",
   "metadata": {},
   "source": [
    "## Create network using networkx\n",
    "\n",
    "To create a network that PathLinker will run on, the example uses the [network-example-undirected.txt](https://github.com/Murali-group/PathLinker-Cytoscape/blob/master/src/test/resources/input/network-example-undirected.txt). <br>"
   ]
  },
  {
   "cell_type": "code",
   "execution_count": 3,
   "metadata": {
    "collapsed": true
   },
   "outputs": [],
   "source": [
    "# Step 2: Import/Create the network that PathLinker will run on\n",
    "\n",
    "# Store the sample text file into csv_directory\n",
    "# Please modify the csv_directory if you want to create network using different text files\n",
    "csv_directory = 'network-example-undirected.txt'\n",
    "\n",
    "# create a new network by importing the data from a sample using pandas\n",
    "network_csv = pd.read_csv(csv_directory, header=None, sep='\\t', lineterminator='\\n')\n",
    "\n",
    "# initialize an empty graph from networkx\n",
    "nx_network = nx.Graph()\n",
    "\n",
    "# fill the empty network with source, target, and corresponding edge weight\n",
    "# from the data inside the network_csv\n",
    "for row in network_csv[1:].itertuples():\n",
    "    nx_network.add_edge(row[1], row[2])\n",
    "    \n",
    "# create the CyNetwork object from the networkx in CytoScape\n",
    "cy_network = cy.network.create_from_networkx(nx_network, collection = 'F1000 PathLinker Use Case')\n",
    "\n",
    "# obtain the CyNetwork object SUID\n",
    "cy_network_suid = cy_network.get_id()"
   ]
  },
  {
   "cell_type": "markdown",
   "metadata": {},
   "source": [
    "The network shown below will be generated in Cytoscape with the above code. Do notice that there are no visual style applied to the network, hence the reason of only a circle representing one of the nodes in the center (all the other nodes are hidden behind the circle node).\n",
    "\n",
    "![networkX](use_case_images/networkX.png)"
   ]
  },
  {
   "cell_type": "markdown",
   "metadata": {},
   "source": [
    "## Use PathLinker API function\n",
    "\n",
    "PathLinker consist of two API function both named \"run\".\n",
    "One function runs algorithm on the current selected network in Cytoscape. Another takes user input network SUID as a path variable and runs algorithm on that specific network."
   ]
  },
  {
   "cell_type": "markdown",
   "metadata": {},
   "source": [
    "### Function 1: run on current selected network\n",
    "\n",
    "The function takes user sources, targets, and a set of parameters, and computes the k shortest paths. The function returns the paths in JSON format. Based on the user input, the function could generate a subnetwork (and view) containing those paths, and returns the computed paths and subnetwork/view SUIDs."
   ]
  },
  {
   "cell_type": "code",
   "execution_count": 4,
   "metadata": {
    "collapsed": true,
    "scrolled": true
   },
   "outputs": [],
   "source": [
    "# Step 3: Construct input data to pass to PathLinker API function\n",
    "\n",
    "# construct PathLinker input data for API request\n",
    "input_data = {}\n",
    "\n",
    "# the node names as shown in the \"source\" column in the Node Table in Cytoscape\n",
    "input_data[\"sources\"] = \"a\"\n",
    "\n",
    "# the node names as shown in the \"target\" column in the Node Table in Cytoscape\n",
    "input_data[\"targets\"] = \"e h\"\n",
    "\n",
    "# the number of shortest path to compute, must be greater than 0\n",
    "input_data[\"k\"] = 3\n",
    "\n",
    "# Edge weight type, must be one of the three: [UNWEIGHTED, ADDITIVE, PROBABILITIES]\n",
    "input_data[\"edgeWeightType\"] = \"UNWEIGHTED\" \n",
    "\n",
    "# Edge penalty, uneeded for UNWEIGHTED, 0 or greater for ADDITIVE, and 1 or greater for PROBABILITIES \n",
    "# input_data[\"edgePenalty\"] = 0\n",
    "\n",
    "# The column name in the Edge Table in Cytoscape containing edge weight property, \n",
    "# column type must be numerical type \n",
    "# input_data[\"edgeWeightColumnName\"] = \"weight\"\n",
    "\n",
    "# The option to ignore directionality of edges when computing paths,\n",
    "# optional parameter, default is set to False\n",
    "input_data[\"treatNetworkAsUndirected\"] = True\n",
    "\n",
    "# Allow source/target nodes to appear as intermediate nodes in computed paths\n",
    "# optional parameter, default is set to False\n",
    "# input_data[\"allowSourcesTargetsInPaths\"] = False\n",
    "\n",
    "# Include more than k paths if the path length/score is equal to kth path length/score\n",
    "# optional parameter, default is set to False\n",
    "# input_data[\"includeTiedPaths\"] = False\n",
    "\n",
    "# Option to disable the generation of the subnetwork/view, path rank column, and result panel\n",
    "# and only return the path result in JSON format\n",
    "# optional parameter, default is set to False\n",
    "# input_data[\"skipSubnetworkGeneration\"] = False\n",
    "\n",
    "# perform REST API call\n",
    "headers = {'Content-Type': 'application/json', 'Accept': 'application/json'}\n",
    "\n",
    "# construct REST API request url\n",
    "url = \"http://localhost:1234/pathlinker/v1/currentView/run\"\n",
    "\n",
    "# store request output\n",
    "result_json = requests.request(\"POST\", \n",
    "                          url,\n",
    "                          data = json.dumps(input_data),\n",
    "                          params = None,\n",
    "                          headers = headers)"
   ]
  },
  {
   "cell_type": "markdown",
   "metadata": {},
   "source": [
    "The subnetwork shown below will be generated by running the function with above input.\n",
    "\n",
    "![subnetwork](use_case_images/subnetwork.png)"
   ]
  },
  {
   "cell_type": "markdown",
   "metadata": {},
   "source": [
    "## Output\n",
    "\n",
    "the following section stores the subnetwork/view references and prints out the path output returned by the run function.\n",
    "\n",
    "The output consist of path result in JSON format, and based on user input: subnetwork SUID, subnetwork view SUID, and path rank column name."
   ]
  },
  {
   "cell_type": "code",
   "execution_count": 5,
   "metadata": {
    "scrolled": true
   },
   "outputs": [
    {
     "name": "stdout",
     "output_type": "stream",
     "text": [
      "Output:\n",
      "\n",
      "subnetwork SUID:       157\n",
      "subnetwork view SUID:  167\n",
      "Path rank column name: path rank 1\n",
      "\n",
      "\n",
      "path rank:  1\n",
      "path score: 2.0\n",
      "path:       a|f|e \n",
      "\n",
      "path rank:  2\n",
      "path score: 3.0\n",
      "path:       a|f|g|h \n",
      "\n",
      "path rank:  3\n",
      "path score: 3.0\n",
      "path:       a|f|i|e \n",
      "\n"
     ]
    }
   ],
   "source": [
    "# Step 4: Store result, parse, and print\n",
    "\n",
    "parsed = json.loads(result_json.content)\n",
    "\n",
    "print(\"Output:\\n\")\n",
    "\n",
    "# access the suid, references, and path rank column name\n",
    "subnetwork_suid = parsed[\"subnetworkSUID\"]\n",
    "subnetwork_view_suid = parsed[\"subnetworkViewSUID\"]\n",
    "path_rank_column_name = parsed[\"pathRankColumnName\"]\n",
    "    \n",
    "print(\"subnetwork SUID:      \", subnetwork_suid)\n",
    "print(\"subnetwork view SUID: \", subnetwork_view_suid)\n",
    "print(\"Path rank column name:\", path_rank_column_name)\n",
    "print(\"\\n\")\n",
    "    \n",
    "# access network and network view references\n",
    "subnetwork_ref = cy.network.create(suid=subnetwork_suid)\n",
    "subnetwork_view_ref = subnetwork_ref.get_first_view()\n",
    "\n",
    "# access the paths generated by PathLinker\n",
    "paths = parsed[\"paths\"]\n",
    "\n",
    "# print the first 10 paths out of 50 paths\n",
    "for path in paths[:10]:\n",
    "    print(\"path rank: \", path['rank'])\n",
    "    print(\"path score:\", path['score'])\n",
    "    print(\"path:\", \" \" * 5, \"|\".join(path['nodeList']), \"\\n\")"
   ]
  },
  {
   "cell_type": "markdown",
   "metadata": {},
   "source": [
    "### Function 2: run on user input network\n",
    "\n",
    "The function takes same input and returns same output as the first run function. Except the function takes user input network SUID as API path variable, and runs the algorithm on that specific network indicated by the network SUID.\n",
    "\n",
    "The following example will use SUID of the networkX network stored in <b>cy_network_suid</b> in line 22 under section STEP 2, and run the algorithm on the network with same <b>input_data</b> on the previous run. "
   ]
  },
  {
   "cell_type": "code",
   "execution_count": 6,
   "metadata": {
    "collapsed": true,
    "scrolled": true
   },
   "outputs": [],
   "source": [
    "# Repeat Step 3: Pass input_data to PathLinker API function\n",
    "\n",
    "\n",
    "# *** The REST API request url now includes the network SUID\n",
    "# construct REST API request url\n",
    "url = \"http://localhost:1234/pathlinker/v1/\" + str(cy_network_suid) + \"/run\"\n",
    "\n",
    "# store request output\n",
    "result_json = requests.request(\"POST\", \n",
    "                          url,\n",
    "                          data = json.dumps(input_data),\n",
    "                          params = None,\n",
    "                          headers = headers)"
   ]
  },
  {
   "cell_type": "markdown",
   "metadata": {},
   "source": [
    "## Output 2\n",
    "\n",
    "The function returns the same output consist of path result in JSON format, and based on user input: subnetwork SUID, subnetwork view SUID, and path rank column name."
   ]
  },
  {
   "cell_type": "code",
   "execution_count": 7,
   "metadata": {
    "scrolled": true
   },
   "outputs": [
    {
     "name": "stdout",
     "output_type": "stream",
     "text": [
      "Output:\n",
      "\n",
      "subnetwork SUID:       224\n",
      "subnetwork view SUID:  234\n",
      "Path rank column name: path rank 2\n",
      "\n",
      "\n",
      "path rank:  1\n",
      "path score: 2.0\n",
      "path:       a|f|e \n",
      "\n",
      "path rank:  2\n",
      "path score: 3.0\n",
      "path:       a|f|g|h \n",
      "\n",
      "path rank:  3\n",
      "path score: 3.0\n",
      "path:       a|f|i|e \n",
      "\n"
     ]
    }
   ],
   "source": [
    "# Repeat Step 4: Store result, parse, and print\n",
    "\n",
    "parsed = json.loads(result_json.content)\n",
    "\n",
    "print(\"Output:\\n\")\n",
    "\n",
    "# access the suid, references, and path rank column name\n",
    "subnetwork_suid = parsed[\"subnetworkSUID\"]\n",
    "subnetwork_view_suid = parsed[\"subnetworkViewSUID\"]\n",
    "path_rank_column_name = parsed[\"pathRankColumnName\"]\n",
    "\n",
    "print(\"subnetwork SUID:      \", subnetwork_suid)\n",
    "print(\"subnetwork view SUID: \", subnetwork_view_suid)\n",
    "print(\"Path rank column name:\", path_rank_column_name)\n",
    "print(\"\\n\")\n",
    "\n",
    "# access network and network view references\n",
    "subnetwork_ref = cy.network.create(suid=subnetwork_suid)\n",
    "subnetwork_view_ref = subnetwork_ref.get_first_view()\n",
    "\n",
    "# access the paths generated by PathLinker\n",
    "paths = parsed[\"paths\"]\n",
    "\n",
    "# print the first 10 paths out of 50 paths\n",
    "for path in paths[:10]:\n",
    "    print(\"path rank: \", path['rank'])\n",
    "    print(\"path score:\", path['score'])\n",
    "    print(\"path:\", \" \" * 5, \"|\".join(path['nodeList']), \"\\n\")"
   ]
  },
  {
   "cell_type": "markdown",
   "metadata": {},
   "source": [
    "## Visualization using cytoscape.js and py2cytoscape\n",
    "\n",
    "run the following section only if there exists subnetwork_ref and subnetwork_view_ref.\n",
    "\n",
    "*** Currently the function does not work therefore is commented out. ***"
   ]
  },
  {
   "cell_type": "code",
   "execution_count": 8,
   "metadata": {
    "collapsed": true
   },
   "outputs": [],
   "source": [
    "# import py2cytoscape.cytoscapejs as renderer\n",
    "\n",
    "# visualize the subnetwork view using CytoScape.js\n",
    "# renderer.render(subnetwork_view_ref, 'Directed', background='radial-gradient(#FFFFFF 15%, #DDDDDD 105%)')"
   ]
  },
  {
   "cell_type": "markdown",
   "metadata": {},
   "source": [
    "## Access and store the pdf image\n",
    "\n",
    "run the following section only if there exists subnetwork_ref and subnetwork_view_ref."
   ]
  },
  {
   "cell_type": "code",
   "execution_count": 9,
   "metadata": {},
   "outputs": [
    {
     "data": {
      "text/html": [
       "\n",
       "        <iframe\n",
       "            width=\"600\"\n",
       "            height=\"300\"\n",
       "            src=\"use_case_images/subnetwork_image.pdf\"\n",
       "            frameborder=\"0\"\n",
       "            allowfullscreen\n",
       "        ></iframe>\n",
       "        "
      ],
      "text/plain": [
       "<IPython.lib.display.IFrame at 0x7fef5574e9b0>"
      ]
     },
     "execution_count": 9,
     "metadata": {},
     "output_type": "execute_result"
    }
   ],
   "source": [
    "# pdf\n",
    "subnetwork_image_pdf = subnetwork_ref.get_pdf()\n",
    "\n",
    "f = open('use_case_images/subnetwork_image.pdf', 'wb')\n",
    "f.write(subnetwork_image_pdf)\n",
    "f.close()\n",
    "\n",
    "from IPython.display import IFrame\n",
    "IFrame('use_case_images/subnetwork_image.pdf', width=600, height=300)"
   ]
  },
  {
   "cell_type": "markdown",
   "metadata": {},
   "source": [
    "## Show PNG image\n",
    "\n",
    "run the following section only if there exists subnetwork_ref and subnetwork_view_ref."
   ]
  },
  {
   "cell_type": "code",
   "execution_count": 10,
   "metadata": {},
   "outputs": [
    {
     "data": {
      "image/png": "[encoded data removed]",
      "text/plain": [
       "<IPython.core.display.Image object>"
      ]
     },
     "execution_count": 10,
     "metadata": {},
     "output_type": "execute_result"
    }
   ],
   "source": [
    "#png\n",
    "subnetwork_image_png = subnetwork_ref.get_png()\n",
    "\n",
    "from IPython.display import Image\n",
    "Image(subnetwork_image_png)"
   ]
  },
  {
   "cell_type": "markdown",
   "metadata": {},
   "source": [
    "## Show SVG image\n",
    "\n",
    "run the following section only if there exists subnetwork_ref and subnetwork_view_ref."
   ]
  },
  {
   "cell_type": "code",
   "execution_count": 11,
   "metadata": {},
   "outputs": [
    {
     "data": {
      "image/svg+xml": [
       "<svg baseProfile=\"full\" height=\"714px\" version=\"1.1\" viewBox=\"0 0 1112 714\" width=\"1112px\" x=\"0px\" xmlns=\"http://www.w3.org/2000/svg\" xmlns:ev=\"http://www.w3.org/2001/xml-events\" xmlns:xlink=\"http://www.w3.org/1999/xlink\" y=\"0px\">\n",
       "<title/>\n",
       "<desc>Creator: FreeHEP Graphics2D Driver Producer: org.freehep.graphicsio.svg.SVGGraphics2D Revision Source:  Date: Wednesday, April 11, 2018 7:31:39 PM EDT</desc>\n",
       "<g stroke-dasharray=\"none\" stroke-dashoffset=\"0\" stroke-linecap=\"square\" stroke-linejoin=\"miter\" stroke-miterlimit=\"10\" stroke-width=\"1\">\n",
       "<g fill=\"#ffffff\" fill-opacity=\"1\" fill-rule=\"nonzero\" stroke=\"none\">\n",
       "  <path d=\"M 0 0 L 1112 0 L 1112 714 L 0 714 L 0 0 z\"/>\n",
       "</g> <!-- drawing style -->\n",
       "<g transform=\"matrix(2.964915350086902, 0, 0, 2.964915350086902, 587.6257618492178, 290.78356095147734)\">\n",
       "<g fill=\"none\" stroke=\"#848484\" stroke-linecap=\"round\" stroke-linejoin=\"round\" stroke-opacity=\"1\" stroke-width=\"2\">\n",
       "  <path d=\"M -42.666664123535156 73.33333587646484 L -42.666664123535156 105.33333587646484\"/>\n",
       "</g> <!-- drawing style -->\n",
       "</g> <!-- transform -->\n",
       "<g transform=\"matrix(2.964915350086902, 0, 0, 2.964915350086902, 587.6257618492178, 290.78356095147734)\">\n",
       "<g fill=\"none\" stroke=\"#848484\" stroke-linecap=\"round\" stroke-linejoin=\"round\" stroke-opacity=\"1\" stroke-width=\"2\">\n",
       "  <path d=\"M 4.616912841796875 6.333335876464844 L -25.950244903564453 38.33333206176758\"/>\n",
       "</g> <!-- drawing style -->\n",
       "</g> <!-- transform -->\n",
       "<g transform=\"matrix(2.964915350086902, 0, 0, 2.964915350086902, 587.6257618492178, 290.78356095147734)\">\n",
       "<g fill=\"none\" stroke=\"#848484\" stroke-linecap=\"round\" stroke-linejoin=\"round\" stroke-opacity=\"1\" stroke-width=\"2\">\n",
       "  <path d=\"M 21.333332061767578 -60.66667175292969 L 21.333332061767578 -28.666667938232422\"/>\n",
       "</g> <!-- drawing style -->\n",
       "</g> <!-- transform -->\n",
       "<g transform=\"matrix(2.964915350086902, 0, 0, 2.964915350086902, 587.6257618492178, 290.78356095147734)\">\n",
       "<g fill=\"none\" stroke=\"#848484\" stroke-linecap=\"round\" stroke-linejoin=\"round\" stroke-opacity=\"1\" stroke-width=\"2\">\n",
       "  <path d=\"M 21.333332061767578 73.33333587646484 L 21.333332061767578 105.33333587646484\"/>\n",
       "</g> <!-- drawing style -->\n",
       "</g> <!-- transform -->\n",
       "<g transform=\"matrix(2.964915350086902, 0, 0, 2.964915350086902, 587.6257618492178, 290.78356095147734)\">\n",
       "<g fill=\"none\" stroke=\"#848484\" stroke-linecap=\"round\" stroke-linejoin=\"round\" stroke-opacity=\"1\" stroke-width=\"2\">\n",
       "  <path d=\"M 4.616909027099609 6.333335876464844 C -21.497089385986328 33.67142868041992 -21.49708366394043 77.9952392578125 4.616922378540039 105.33333587646484\"/>\n",
       "</g> <!-- drawing style -->\n",
       "</g> <!-- transform -->\n",
       "<g transform=\"matrix(2.964915350086902, 0, 0, 2.964915350086902, 587.6257618492178, 290.78356095147734)\">\n",
       "<g fill=\"none\" stroke=\"#848484\" stroke-linecap=\"round\" stroke-linejoin=\"round\" stroke-opacity=\"1\" stroke-width=\"2\">\n",
       "  <path d=\"M 21.333332061767578 6.333335876464844 L 21.333332061767578 38.33333206176758\"/>\n",
       "</g> <!-- drawing style -->\n",
       "</g> <!-- transform -->\n",
       "<g transform=\"matrix(2.964915350086902, 0, 0, 2.964915350086902, 587.6257618492178, 290.78356095147734)\">\n",
       "<g fill=\"#89d0f5\" fill-opacity=\"1\" fill-rule=\"nonzero\" stroke=\"none\">\n",
       "  <path d=\"M -80.16666412353516 42.708332538604736 L -80.16666412353516 68.95833539962769 C -80.16666412353516 71.3745814434873 -78.20790969055761 73.33333587646484 -75.791663646698 73.33333587646484 L -9.541664600372314 73.33333587646484 C -7.125418556512703 73.33333587646484 -5.166664123535156 71.3745814434873 -5.166664123535156 68.95833539962769 L -5.166664123535156 42.708332538604736 C -5.166664123535156 40.29208649474513 -7.125418556512703 38.33333206176758 -9.541664600372314 38.33333206176758 L -75.791663646698 38.33333206176758 C -78.20790969055761 38.33333206176758 -80.16666412353516 40.29208649474513 -80.16666412353516 42.708332538604736 z\"/>\n",
       "</g> <!-- drawing style -->\n",
       "</g> <!-- transform -->\n",
       "<g transform=\"matrix(2.964915350086902, 0, 0, 2.964915350086902, 449.8305563807263, 468.64181411167124)\">\n",
       "<text fill=\"#000000\" fill-opacity=\"1\" font-family=\"Helvetica\" font-size=\"12\" font-style=\"normal\" font-weight=\"normal\" stroke=\"none\" x=\"0\" y=\"0\">g</text>\n",
       "</g> <!-- transform -->\n",
       "<g transform=\"matrix(2.964915350086902, 0, 0, 2.964915350086902, 587.6257618492178, 290.78356095147734)\">\n",
       "<g fill=\"#ffdf00\" fill-opacity=\"1\" fill-rule=\"nonzero\" stroke=\"none\">\n",
       "  <path d=\"M -80.16666412353516 105.33333587646484 L -5.166664123535156 105.33333587646484 L -5.166664123535156 140.3333282470703 L -80.16666412353516 140.3333282470703 L -80.16666412353516 105.33333587646484 z\"/>\n",
       "</g> <!-- drawing style -->\n",
       "</g> <!-- transform -->\n",
       "<g transform=\"matrix(2.964915350086902, 0, 0, 2.964915350086902, 449.8479289316057, 667.2911199469847)\">\n",
       "<text fill=\"#000000\" fill-opacity=\"1\" font-family=\"Helvetica\" font-size=\"12\" font-style=\"normal\" font-weight=\"normal\" stroke=\"none\" x=\"0\" y=\"0\">h</text>\n",
       "</g> <!-- transform -->\n",
       "<g transform=\"matrix(2.964915350086902, 0, 0, 2.964915350086902, 587.6257618492178, 290.78356095147734)\">\n",
       "<g fill=\"#00ffff\" fill-opacity=\"1\" fill-rule=\"nonzero\" stroke=\"none\">\n",
       "  <path d=\"M 21.333332061767578 -95.66666412353516 L 58.83333206176758 -78.16667175292969 L 21.333332061767578 -60.66667175292969 L -16.16666603088379 -78.16667175292969 z\"/>\n",
       "</g> <!-- drawing style -->\n",
       "</g> <!-- transform -->\n",
       "<g transform=\"matrix(2.964915350086902, 0, 0, 2.964915350086902, 639.9760098708205, 71.34313457951741)\">\n",
       "<text fill=\"#000000\" fill-opacity=\"1\" font-family=\"Helvetica\" font-size=\"12\" font-style=\"normal\" font-weight=\"normal\" stroke=\"none\" x=\"0\" y=\"0\">a</text>\n",
       "</g> <!-- transform -->\n",
       "<g transform=\"matrix(2.964915350086902, 0, 0, 2.964915350086902, 587.6257618492178, 290.78356095147734)\">\n",
       "<g fill=\"#89d0f5\" fill-opacity=\"1\" fill-rule=\"nonzero\" stroke=\"none\">\n",
       "  <path d=\"M -16.16666603088379 109.70833492279053 L -16.16666603088379 135.95832920074463 C -16.16666603088379 138.37457445455456 -14.207912238368046 140.3333282470703 -11.791666984558105 140.3333282470703 L 54.45833492279053 140.3333282470703 C 56.87458017660047 140.3333282470703 58.83333396911621 138.37457445455456 58.83333396911621 135.95832920074463 L 58.83333396911621 109.70833492279053 C 58.83333396911621 107.2920896689806 56.87458017660047 105.33333587646484 54.45833492279053 105.33333587646484 L -11.791666984558105 105.33333587646484 C -14.207912238368046 105.33333587646484 -16.16666603088379 107.2920896689806 -16.16666603088379 109.70833492279053 z\"/>\n",
       "</g> <!-- drawing style -->\n",
       "</g> <!-- transform -->\n",
       "<g transform=\"matrix(2.964915350086902, 0, 0, 2.964915350086902, 645.9347948224599, 667.2911199469847)\">\n",
       "<text fill=\"#000000\" fill-opacity=\"1\" font-family=\"Helvetica\" font-size=\"12\" font-style=\"normal\" font-weight=\"normal\" stroke=\"none\" x=\"0\" y=\"0\">i</text>\n",
       "</g> <!-- transform -->\n",
       "<g transform=\"matrix(2.964915350086902, 0, 0, 2.964915350086902, 587.6257618492178, 290.78356095147734)\">\n",
       "<g fill=\"#ffdf00\" fill-opacity=\"1\" fill-rule=\"nonzero\" stroke=\"none\">\n",
       "  <path d=\"M -16.16666603088379 38.33333206176758 L 58.83333396911621 38.33333206176758 L 58.83333396911621 73.33333587646484 L -16.16666603088379 73.33333587646484 L -16.16666603088379 38.33333206176758 z\"/>\n",
       "</g> <!-- drawing style -->\n",
       "</g> <!-- transform -->\n",
       "<g transform=\"matrix(2.964915350086902, 0, 0, 2.964915350086902, 639.9325784936219, 468.64181411167124)\">\n",
       "<text fill=\"#000000\" fill-opacity=\"1\" font-family=\"Helvetica\" font-size=\"12\" font-style=\"normal\" font-weight=\"normal\" stroke=\"none\" x=\"0\" y=\"0\">e</text>\n",
       "</g> <!-- transform -->\n",
       "<g transform=\"matrix(2.964915350086902, 0, 0, 2.964915350086902, 587.6257618492178, 290.78356095147734)\">\n",
       "<g fill=\"#89d0f5\" fill-opacity=\"1\" fill-rule=\"nonzero\" stroke=\"none\">\n",
       "  <path d=\"M -16.16666603088379 -24.291667461395264 L -16.16666603088379 1.9583353996276855 C -16.16666603088379 4.374581443487297 -14.207911597906243 6.333335876464844 -11.79166555404663 6.333335876464844 L 54.45833349227905 6.333335876464844 C 56.87457953613866 6.333335876464844 58.83333396911621 4.374581443487297 58.83333396911621 1.9583353996276855 L 58.83333396911621 -24.291667461395264 C 58.83333396911621 -26.707913505254876 56.87457953613866 -28.666667938232422 54.45833349227905 -28.666667938232422 L -11.79166555404663 -28.666667938232422 C -14.207911597906243 -28.666667938232422 -16.16666603088379 -26.707913505254876 -16.16666603088379 -24.291667461395264 z\"/>\n",
       "</g> <!-- drawing style -->\n",
       "</g> <!-- transform -->\n",
       "<g transform=\"matrix(2.964915350086902, 0, 0, 2.964915350086902, 644.6144809556243, 269.99248000072157)\">\n",
       "<text fill=\"#000000\" fill-opacity=\"1\" font-family=\"Helvetica\" font-size=\"12\" font-style=\"normal\" font-weight=\"normal\" stroke=\"none\" x=\"0\" y=\"0\">f</text>\n",
       "</g> <!-- transform -->\n",
       "</g> <!-- default stroke -->\n",
       "</svg>"
      ],
      "text/plain": [
       "<IPython.core.display.SVG object>"
      ]
     },
     "execution_count": 11,
     "metadata": {},
     "output_type": "execute_result"
    }
   ],
   "source": [
    "#svg\n",
    "subnetwork_image_svg = subnetwork_ref.get_svg()\n",
    "\n",
    "from IPython.display import SVG\n",
    "SVG(subnetwork_image_svg)"
   ]
  }
 ],
 "metadata": {
  "kernelspec": {
   "display_name": "Python 3",
   "language": "python",
   "name": "python3"
  },
  "language_info": {
   "codemirror_mode": {
    "name": "ipython",
    "version": 3
   },
   "file_extension": ".py",
   "mimetype": "text/x-python",
   "name": "python",
   "nbconvert_exporter": "python",
   "pygments_lexer": "ipython3",
   "version": "3.6.3"
  }
 },
 "nbformat": 4,
 "nbformat_minor": 2
}
