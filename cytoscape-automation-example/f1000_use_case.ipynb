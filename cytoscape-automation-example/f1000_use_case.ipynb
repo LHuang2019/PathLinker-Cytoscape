{
 "cells": [
  {
   "cell_type": "markdown",
   "metadata": {},
   "source": [
    "<h1><center> Use Case for \"Automating the PathLinker App for Cytoscape\" - F1000, 2018 </center></h1>\n",
    "<img src=\"http://apps.cytoscape.org/media/pathlinker/logo.png.png\" alt=\"PathLinker Logo\">\n",
    "\n",
    "\n",
    "## Links\n",
    "- [Installation instructions](https://github.com/cytoscape/cytoscape-automation/tree/master/for-scripters/Python#installation)\n",
    "- Full workflows can be found in the [cytoscape automation](https://github.com/cytoscape/cytoscape-automation/tree/master/for-scripters/Python) repo\n",
    "\n",
    "## Requirments\n",
    "* Java 8\n",
    "* Cytoscape 3.6.0+\n",
    "* cyREST 3.6.0+\n",
    "* PathLinker App 1.4.1+\n",
    "* py2cytoscape 0.4.2+"
   ]
  },
  {
   "cell_type": "code",
   "execution_count": 29,
   "metadata": {
    "collapsed": true
   },
   "outputs": [
    {
     "name": "stdout",
     "output_type": "stream",
     "text": [
      "python version: 2.7.12 (default, Dec  4 2017, 14:50:18) \n",
      "[GCC 5.4.0 20160609]\n",
      "networkx version: 2.1\n",
      "pandas version: 0.22.0\n",
      "requests version: 2.18.4\n"
     ]
    }
   ],
   "source": [
    "# necessary libraries and dependencies\n",
    "import sys\n",
    "from py2cytoscape.data.cyrest_client import CyRestClient\n",
    "from py2cytoscape.data.style import StyleUtil\n",
    "\n",
    "import networkx as nx\n",
    "import pandas as pd\n",
    "import json\n",
    "import requests\n",
    "\n",
    "print(\"python version: \" + sys.version)\n",
    "# The py2cytoscape module doesn't have a version. I installed it 2018-04-13\n",
    "#print(\"py2cytoscape version: \" + py2cytoscape.__version__)\n",
    "print(\"networkx version: \" + nx.__version__)\n",
    "print(\"pandas version: \" + pd.__version__)\n",
    "print(\"requests version: \" + requests.__version__)\n"
   ]
  },
  {
   "cell_type": "code",
   "execution_count": 34,
   "metadata": {},
   "outputs": [],
   "source": [
    "# !!!!!!!!!!!!!!!!! Step 0: Start Cytoscape 3.6 with cyREST App !!!!!!!!!!!!!!!!!!!!!!!!!!\n",
    "# Cytoscape must be running to use the automation features\n",
    "\n",
    "# Step 1: create an instance of cyRest client\n",
    "cy = CyRestClient()\n",
    "\n",
    "# Reset the session\n",
    "#cy.session.delete()"
   ]
  },
  {
   "cell_type": "markdown",
   "metadata": {},
   "source": [
    "## Create network using networkx\n",
    "\n",
    "This example uses the small and simple network found here: [network-example-undirected.txt](https://github.com/Murali-group/PathLinker-Cytoscape/blob/master/src/test/resources/input/network-example-undirected.txt). <br>"
   ]
  },
  {
   "cell_type": "code",
   "execution_count": 60,
   "metadata": {
    "collapsed": true
   },
   "outputs": [],
   "source": [
    "# Step 2: Import/Create the network that PathLinker will run on\n",
    "network_file = 'network-example-undirected.txt'\n",
    "\n",
    "# create a new network by importing the data from a sample using pandas\n",
    "df = pd.read_csv(network_file, sep='\\t', lineterminator='\\n')\n",
    "\n",
    "# initialize an empty graph from networkx\n",
    "G = nx.from_pandas_edgelist(df, \"source\", \"target\")\n",
    "    \n",
    "# create the CyNetwork object from the networkx in CytoScape\n",
    "cy_network = cy.network.create_from_networkx(G, name = 'network-example-undirected', collection = 'F1000 PathLinker Use Case')\n",
    "\n",
    "# obtain the CyNetwork object SUID\n",
    "cy_network_suid = cy_network.get_id()"
   ]
  },
  {
   "cell_type": "code",
   "execution_count": 59,
   "metadata": {},
   "outputs": [],
   "source": [
    "# give the network some style and a layout\n",
    "my_style = cy.style.create('defaut')\n",
    "\n",
    "# copied from here: https://github.com/cytoscape/cytoscape-automation/blob/master/for-scripters/Python/basic-fundamentals.ipynb\n",
    "basic_settings = {    \n",
    "    'NODE_FILL_COLOR': '#6AACB8',\n",
    "    'NODE_SIZE': 55,\n",
    "    'NODE_BORDER_WIDTH': 0,\n",
    "    'NODE_LABEL_COLOR': '#555555',\n",
    "    \n",
    "    'EDGE_WIDTH': 2,\n",
    "    'EDGE_TRANSPARENCY': 100,\n",
    "    'EDGE_STROKE_UNSELECTED_PAINT': '#333333',\n",
    "    \n",
    "    'NETWORK_BACKGROUND_PAINT': '#FFFFEA'\n",
    "}\n",
    "\n",
    "my_style.update_defaults(basic_settings)\n",
    "\n",
    "# Create some mappings\n",
    "my_style.create_passthrough_mapping(column='name', vp='NODE_LABEL', col_type='String')\n",
    "\n",
    "cy.layout.apply(name=\"force-directed\", network=cy_network)\n",
    "cy.style.apply(my_style, cy_network)\n",
    "#cy.layout.fit(network=cy_network)"
   ]
  },
  {
   "cell_type": "markdown",
   "metadata": {},
   "source": [
    "The network shown below will be generated in Cytoscape with the above code.\n",
    "\n",
    "![example-network](use-case-images/example-network.png)"
   ]
  },
  {
   "cell_type": "markdown",
   "metadata": {},
   "source": [
    "## Run PathLinker using the API function"
   ]
  },
  {
   "cell_type": "markdown",
   "metadata": {},
   "source": [
    "### Run PathLinker\n",
    "\n",
    "The function takes user sources, targets, and a set of parameters, and computes the k shortest paths. The function returns the paths in JSON format. Based on the user input, the function could generate a subnetwork (and view) containing those paths, and returns the computed paths and subnetwork/view SUIDs."
   ]
  },
  {
   "cell_type": "code",
   "execution_count": 37,
   "metadata": {
    "collapsed": true,
    "scrolled": true
   },
   "outputs": [],
   "source": [
    "# Step 3: Construct input data to pass to PathLinker API function\n",
    "\n",
    "# construct PathLinker input data for API request\n",
    "# For a description of all of the parameters, please see below\n",
    "params = {\n",
    "    'sources': 'a',\n",
    "    'targets': 'e h',\n",
    "    'k': 2,  # the number of shortest path to compute\n",
    "    'treatNetworkAsUndirected': True,\n",
    "    'includeTiedPaths': True,\n",
    "}\n",
    "\n",
    "# construct REST API request url\n",
    "url = \"http://localhost:1234/pathlinker/v1/\" + str(cy_network_suid) + \"/run\"\n",
    "# to just run on the network currently in view on cytoscape, use the following:\n",
    "# url = \"http://localhost:1234/pathlinker/v1/currentView/run\"\n",
    "\n",
    "headers = {'Content-Type': 'application/json', 'Accept': 'application/json'}\n",
    "\n",
    "# perform the REST API call\n",
    "result_json = requests.request(\"POST\", \n",
    "                          url,\n",
    "                          data = json.dumps(params),\n",
    "                          params = None,\n",
    "                          headers = headers)"
   ]
  },
  {
   "cell_type": "code",
   "execution_count": null,
   "metadata": {},
   "outputs": [],
   "source": [
    "# ------------ Description of all parameters ------------------\n",
    "# the node names for the sources and targets are space separated \n",
    "# and must match the \"name\" column in the Node Table in Cytoscape\n",
    "params[\"sources\"] = \"a\"\n",
    "params[\"targets\"] = \"e h\"\n",
    "\n",
    "# the number of shortest path to compute, must be greater than 0\n",
    "# Default: 50\n",
    "params[\"k\"] = 2\n",
    "\n",
    "# Edge weight type, must be one of the three: [UNWEIGHTED, ADDITIVE, PROBABILITIES]\n",
    "params[\"edgeWeightType\"] = \"UNWEIGHTED\" \n",
    "\n",
    "# Edge penalty. Not needed for UNWEIGHTED \n",
    "# Must be 0 or greater for ADDITIVE, and 1 or greater for PROBABILITIES \n",
    "params[\"edgePenalty\"] = 0\n",
    "\n",
    "# The column name in the Edge Table in Cytoscape containing edge weight property, \n",
    "# column type must be numerical type \n",
    "params[\"edgeWeightColumnName\"] = \"weight\"\n",
    "\n",
    "# The option to ignore directionality of edges when computing paths\n",
    "# Default: False\n",
    "params[\"treatNetworkAsUndirected\"] = True\n",
    "\n",
    "# Allow source/target nodes to appear as intermediate nodes in computed paths\n",
    "# Default: False\n",
    "params[\"allowSourcesTargetsInPaths\"] = False\n",
    "\n",
    "# Include more than k paths if the path length/score is equal to kth path length/score\n",
    "# Default: False\n",
    "params[\"includeTiedPaths\"] = False\n",
    "\n",
    "# Option to disable the generation of the subnetwork/view, path rank column, and result panel\n",
    "# and only return the path result in JSON format\n",
    "# optional parameter, default is set to False\n",
    "params[\"skipSubnetworkGeneration\"] = False"
   ]
  },
  {
   "cell_type": "markdown",
   "metadata": {},
   "source": [
    "## Output"
   ]
  },
  {
   "cell_type": "markdown",
   "metadata": {},
   "source": [
    "The app will generate the following (shown below): \n",
    "- a subnetwork containing the paths (with the hierarchical layout applied)\n",
    "- a path rank column in the Edge Table (shows for each edge, the rank of the first path in which it appears)\n",
    "- a Result Panel within Cytoscape. \n",
    "\n",
    "The API will return: \n",
    "- the computed paths\n",
    "- the SUIDs of the generated subnetwork and subnetwork view\n",
    "- the path rank column name in JSON format.\n",
    "\n",
    "![subnetwork](use-case-images/example-network-results.png)"
   ]
  },
  {
   "cell_type": "code",
   "execution_count": 62,
   "metadata": {
    "scrolled": true
   },
   "outputs": [
    {
     "name": "stdout",
     "output_type": "stream",
     "text": [
      "Output:\n",
      "\n",
      "subnetwork SUID:       157\n",
      "subnetwork view SUID:  167\n",
      "Path rank column name: path rank 1\n",
      "\n",
      "path rank:  1\n",
      "path score: 2.0\n",
      "path:       a|f|e\n",
      "path rank:  2\n",
      "path score: 3.0\n",
      "path:       a|f|g|h\n",
      "path rank:  3\n",
      "path score: 3.0\n",
      "path:       a|f|i|e\n"
     ]
    }
   ],
   "source": [
    "# Step 4: Store result, parse, and print\n",
    "results = json.loads(result_json.content)\n",
    "\n",
    "print(\"Output:\\n\")\n",
    "\n",
    "# access the suid, references, and path rank column name\n",
    "subnetwork_suid = results[\"subnetworkSUID\"]\n",
    "subnetwork_view_suid = results[\"subnetworkViewSUID\"]\n",
    "# The path rank column shows for each edge, the rank of the first path in which it appears\n",
    "path_rank_column_name = results[\"pathRankColumnName\"]\n",
    "    \n",
    "print(\"subnetwork SUID:       %s\" % (subnetwork_suid))\n",
    "print(\"subnetwork view SUID:  %s\" % (subnetwork_view_suid))\n",
    "print(\"Path rank column name: %s\" % (path_rank_column_name))\n",
    "print(\"\")\n",
    "\n",
    "\n",
    "# access the paths generated by PathLinker\n",
    "paths = results[\"paths\"]\n",
    "\n",
    "# print the paths found\n",
    "for path in paths:\n",
    "    print(\"path rank:  %d\" % (path['rank']))\n",
    "    print(\"path score: %s\" % (str(path['score'])))\n",
    "    print(\"path:       %s\" % (\"|\".join(path['nodeList'])))"
   ]
  },
  {
   "cell_type": "code",
   "execution_count": 61,
   "metadata": {},
   "outputs": [
    {
     "name": "stdout",
     "output_type": "stream",
     "text": [
      "Writing paths to use-case-images/paths.txt\n"
     ]
    }
   ],
   "source": [
    "# write them to a file\n",
    "paths_file = \"use-case-images/paths.txt\"\n",
    "print(\"Writing paths to %s\" % (paths_file))\n",
    "with open(paths_file, 'w') as out:\n",
    "    out.write(\"path rank\\tpath score\\tpath\\n\")\n",
    "    for path in paths:\n",
    "        out.write('%d\\t%s\\t%s\\n' % (path['rank'], str(path['score']), \"|\".join(path['nodeList'])))"
   ]
  },
  {
   "cell_type": "code",
   "execution_count": 54,
   "metadata": {},
   "outputs": [],
   "source": [
    "# access network and network view references\n",
    "subnetwork = cy.network.create(suid=subnetwork_suid)\n",
    "#subnetwork_view = subnetwork.get_first_view()\n",
    "\n",
    "# TODO copy the layout of the original graph to this graph to better visualize the results.\n",
    "# The copycat layout doesn't seem to be working\n",
    "# for now, just apply the cose layout to get a little better layout (see image below)\n",
    "cy.layout.apply(name=\"cose\", network=subnetwork)"
   ]
  },
  {
   "cell_type": "markdown",
   "metadata": {},
   "source": [
    "The subnetwork with \"cose\" layout will look something like this:\n",
    "![](use-case-images/subnetwork-image.png)"
   ]
  },
  {
   "cell_type": "markdown",
   "metadata": {},
   "source": [
    "## Visualization using cytoscape.js and py2cytoscape"
   ]
  },
  {
   "cell_type": "code",
   "execution_count": 21,
   "metadata": {
    "collapsed": true
   },
   "outputs": [],
   "source": [
    "# *** Currently the function does not work therefore is commented out. ***\n",
    "# import py2cytoscape.cytoscapejs as renderer\n",
    "\n",
    "# # visualize the subnetwork view using CytoScape.js\n",
    "# renderer.render(subnetwork_view, 'Directed', background='radial-gradient(#FFFFFF 15%, #DDDDDD 105%)')"
   ]
  },
  {
   "cell_type": "markdown",
   "metadata": {},
   "source": [
    "## Store the network visualization as a PNG"
   ]
  },
  {
   "cell_type": "code",
   "execution_count": null,
   "metadata": {},
   "outputs": [],
   "source": [
    "# png\n",
    "subnetwork_image_png = subnetwork.get_png()\n",
    "subnetwork_image_file = 'use-case-images/subnetwork-image.png'\n",
    "print(\"Writing PNG to %s\" % (subnetwork_image_file))\n",
    "with open(subnetwork_image_file, 'wb') as f:\n",
    "    f.write(subnetwork_image_png)\n",
    "\n",
    "from IPython.display import Image\n",
    "Image(subnetwork_image_png)\n",
    "\n",
    "# # pdf\n",
    "# subnetwork_image_pdf = subnetwork.get_pdf()\n",
    "# subnetwork_image_file = subnetwork_image_file.replace('.png', '.pdf')\n",
    "# print(\"Writing PDF to %s\" % (subnetwork_image_file))\n",
    "# with open(subnetwork_image_file, 'wb') as f:\n",
    "#     f.write(subnetwork_image_pdf)\n",
    "# # display the pdf in frame\n",
    "# from IPython.display import IFrame\n",
    "# IFrame('use_case_images/subnetwork_image.pdf', width=600, height=300)\n",
    "\n",
    "# # svg\n",
    "# subnetwork_image_svg = subnetwork.get_svg()\n",
    "\n",
    "# from IPython.display import SVG\n",
    "# SVG(subnetwork_image_svg)"
   ]
  }
 ],
 "metadata": {
  "kernelspec": {
   "display_name": "Python 2",
   "language": "python",
   "name": "python2"
  },
  "language_info": {
   "codemirror_mode": {
    "name": "ipython",
    "version": 2
   },
   "file_extension": ".py",
   "mimetype": "text/x-python",
   "name": "python",
   "nbconvert_exporter": "python",
   "pygments_lexer": "ipython2",
   "version": "2.7.12"
  }
 },
 "nbformat": 4,
 "nbformat_minor": 2
}
